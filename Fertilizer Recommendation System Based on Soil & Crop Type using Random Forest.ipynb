{
 "cells": [
  {
   "cell_type": "markdown",
   "id": "ab0936d8-0f28-4662-aaa1-677b2725bc04",
   "metadata": {},
   "source": [
    "### **Project Title: Fertilizer Recommendation System Based on Soil & Crop Type using Random Forest** ##"
   ]
  },
  {
   "cell_type": "code",
   "execution_count": null,
   "id": "e17d2fde-8ef3-4a6b-994a-e23882842b67",
   "metadata": {},
   "outputs": [],
   "source": []
  },
  {
   "cell_type": "markdown",
   "id": "805ba0e2-b343-45a2-bc62-c5a9fc3b24e8",
   "metadata": {},
   "source": [
    "### **Project Description:**\n",
    "In agriculture, selecting the right fertilizer is crucial for maximizing crop yield and maintaining soil health. However, farmers often lack access to scientific tools that can guide them toward the most suitable fertilizer based on local soil conditions and crop types. This project aims to bridge that gap by developing a machine learning-based Fertilizer Recommendation System using the Random Forest algorithm.\n",
    "\n",
    "The system takes into account important environmental and agricultural parameters such as temperature, humidity, soil moisture, soil type, crop type, and nutrient levels (Nitrogen, Phosphorus, Potassium). By analyzing these features, the model accurately predicts the most appropriate fertilizer for optimal crop growth. The solution is lightweight, fast, and easy to integrate into mobile or web-based platforms for real-time agricultural support."
   ]
  },
  {
   "cell_type": "code",
   "execution_count": null,
   "id": "f4488fc6-fc6c-4f9c-8593-683e3afba3cc",
   "metadata": {},
   "outputs": [],
   "source": []
  },
  {
   "cell_type": "markdown",
   "id": "94936b6e-50f7-4bce-a3e9-276cf1524e9c",
   "metadata": {},
   "source": [
    "### **Project Objectives:**\n",
    "+ To build a robust Random Forest model that can accurately classify and recommend fertilizers based on soil and crop attributes.\n",
    "\n",
    "+ To preprocess and analyze the dataset to uncover patterns between environmental factors and fertilizer usage.\n",
    "\n",
    "+ To deploy the model for real-world usability using tools like Flask, Streamlit, or web APIs (optional).\n",
    "\n",
    "+ To support data-driven farming and reduce the misuse or overuse of fertilizers, thereby promoting sustainable agriculture.\n"
   ]
  },
  {
   "cell_type": "code",
   "execution_count": null,
   "id": "d2cea6b0-85bf-489a-afdf-25b754e3c57e",
   "metadata": {},
   "outputs": [],
   "source": []
  },
  {
   "cell_type": "markdown",
   "id": "c390680f-3244-46d3-ad4c-2ad468a13959",
   "metadata": {},
   "source": [
    "### **Step 1 :- Define the Problem**"
   ]
  },
  {
   "cell_type": "markdown",
   "id": "00f63c33-9445-4841-bd3e-2be503302020",
   "metadata": {},
   "source": [
    "##### **Type:** Classification – predict the recommended Fertilizer type\n",
    "##### **Model:** RandomForestClassifier\n"
   ]
  },
  {
   "cell_type": "code",
   "execution_count": null,
   "id": "eee53de6-ad51-4364-9d84-f3c73ce4664b",
   "metadata": {},
   "outputs": [],
   "source": []
  },
  {
   "cell_type": "markdown",
   "id": "ea48748b-d3ff-4221-a9b7-16b6f5bd64dc",
   "metadata": {},
   "source": [
    "### **Step 2:- Import Libraries**"
   ]
  },
  {
   "cell_type": "markdown",
   "id": "45bac95c-6766-47b6-a399-a6c1d85407b8",
   "metadata": {},
   "source": [
    "#### **pandas:** Used for data manipulation and analysis, offering powerful data structures like DataFrames to handle and process structured data efficiently.\n",
    "#### **matplotlib.pyplot:** Used for cremating static, interactive, and animated visualizations in Python, enabling plotting of various graphs such as line charts, scatter plots, and histograms.\n",
    "#### **seaborn:** A data visualization library built on matplotlib, providing a high-level interface to create statistical graphics such as heatmaps, pair plots, and box plots.\n",
    "#### **warnings.warn:** To manage and suppress unnecessary warning messages during code execution.\n",
    "\n",
    "#### **sklearn.preprocessing:**\n",
    "#### **LabelEncoder:** To convert categorical features into numeric format suitable for model training.\n",
    "\n",
    "#### **sklearn.model_selection:**\n",
    "#### **train_test_split:** Splits the dataset into training and testing sets, ensuring an appropriate balance for model training and validation.  \n",
    "\n",
    "#### **sklearn.ensemble:**\n",
    "#### **RandomForestClassifier:** To build a robust and high-performing ensemble classifier using multiple decision trees.\n",
    "\n",
    "#### **sklearn.metrics:**\n",
    "#### **accuracy_score, classification_report, confusion_matrix:** To evaluate the performance of the model using key metrics like accuracy, precision, recall, and the confusion matrix.\n",
    "\n",
    "#### **sklearn.model_selection:**\n",
    "#### **GridSearchCV:** To perform hyperparameter tuning by exhaustively searching over specified parameter values for the model.\n",
    "\n",
    "\n"
   ]
  },
  {
   "cell_type": "code",
   "execution_count": null,
   "id": "a2a067f5-2572-4270-ae5e-d32af64f5a14",
   "metadata": {},
   "outputs": [],
   "source": [
    "import pandas as pd\n",
    "import seaborn as sns\n",
    "import matplotlib.pyplot as plt\n",
    "from sklearn.model_selection import train_test_split\n",
    "from sklearn.preprocessing import LabelEncoder\n",
    "import warnings.warn"
   ]
  },
  {
   "cell_type": "code",
   "execution_count": null,
   "id": "02b620a5-b3e9-4af1-8f72-a9e760feda21",
   "metadata": {},
   "outputs": [],
   "source": []
  },
  {
   "cell_type": "markdown",
   "id": "ff70da21-502e-4b8c-b613-0f813ad23447",
   "metadata": {},
   "source": [
    "### **Step 3:- Load the dataset**"
   ]
  },
  {
   "cell_type": "code",
   "execution_count": 6,
   "id": "0f8ea455-1249-471d-b411-d98cb07574af",
   "metadata": {},
   "outputs": [],
   "source": [
    "df = pd.read_csv('fertilizer_recommendation.csv')\n"
   ]
  },
  {
   "cell_type": "code",
   "execution_count": 8,
   "id": "881693c1-2482-4120-9853-1194082cd86a",
   "metadata": {},
   "outputs": [
    {
     "data": {
      "text/html": [
       "<div>\n",
       "<style scoped>\n",
       "    .dataframe tbody tr th:only-of-type {\n",
       "        vertical-align: middle;\n",
       "    }\n",
       "\n",
       "    .dataframe tbody tr th {\n",
       "        vertical-align: top;\n",
       "    }\n",
       "\n",
       "    .dataframe thead th {\n",
       "        text-align: right;\n",
       "    }\n",
       "</style>\n",
       "<table border=\"1\" class=\"dataframe\">\n",
       "  <thead>\n",
       "    <tr style=\"text-align: right;\">\n",
       "      <th></th>\n",
       "      <th>Temperature</th>\n",
       "      <th>Humidity</th>\n",
       "      <th>Moisture</th>\n",
       "      <th>Soil_Type</th>\n",
       "      <th>Crop_Type</th>\n",
       "      <th>Nitrogen</th>\n",
       "      <th>Phosphorus</th>\n",
       "      <th>Potassium</th>\n",
       "      <th>Fertilizer</th>\n",
       "    </tr>\n",
       "  </thead>\n",
       "  <tbody>\n",
       "    <tr>\n",
       "      <th>0</th>\n",
       "      <td>35.322292</td>\n",
       "      <td>15.980625</td>\n",
       "      <td>14.522961</td>\n",
       "      <td>Clayey</td>\n",
       "      <td>Rice</td>\n",
       "      <td>44</td>\n",
       "      <td>84</td>\n",
       "      <td>40</td>\n",
       "      <td>17-17-17</td>\n",
       "    </tr>\n",
       "    <tr>\n",
       "      <th>1</th>\n",
       "      <td>23.984480</td>\n",
       "      <td>49.597764</td>\n",
       "      <td>43.047358</td>\n",
       "      <td>Sandy</td>\n",
       "      <td>Cotton</td>\n",
       "      <td>36</td>\n",
       "      <td>79</td>\n",
       "      <td>28</td>\n",
       "      <td>14-35-14</td>\n",
       "    </tr>\n",
       "    <tr>\n",
       "      <th>2</th>\n",
       "      <td>30.869379</td>\n",
       "      <td>10.830022</td>\n",
       "      <td>43.287254</td>\n",
       "      <td>Sandy</td>\n",
       "      <td>Maize</td>\n",
       "      <td>127</td>\n",
       "      <td>31</td>\n",
       "      <td>39</td>\n",
       "      <td>20-20</td>\n",
       "    </tr>\n",
       "    <tr>\n",
       "      <th>3</th>\n",
       "      <td>40.787061</td>\n",
       "      <td>37.982422</td>\n",
       "      <td>18.520513</td>\n",
       "      <td>Sandy</td>\n",
       "      <td>Rice</td>\n",
       "      <td>60</td>\n",
       "      <td>8</td>\n",
       "      <td>46</td>\n",
       "      <td>20-20</td>\n",
       "    </tr>\n",
       "    <tr>\n",
       "      <th>4</th>\n",
       "      <td>21.660016</td>\n",
       "      <td>15.269021</td>\n",
       "      <td>37.760771</td>\n",
       "      <td>Loamy</td>\n",
       "      <td>Wheat</td>\n",
       "      <td>52</td>\n",
       "      <td>92</td>\n",
       "      <td>55</td>\n",
       "      <td>Urea</td>\n",
       "    </tr>\n",
       "  </tbody>\n",
       "</table>\n",
       "</div>"
      ],
      "text/plain": [
       "   Temperature   Humidity   Moisture Soil_Type Crop_Type  Nitrogen  \\\n",
       "0    35.322292  15.980625  14.522961    Clayey      Rice        44   \n",
       "1    23.984480  49.597764  43.047358     Sandy    Cotton        36   \n",
       "2    30.869379  10.830022  43.287254     Sandy     Maize       127   \n",
       "3    40.787061  37.982422  18.520513     Sandy      Rice        60   \n",
       "4    21.660016  15.269021  37.760771     Loamy     Wheat        52   \n",
       "\n",
       "   Phosphorus  Potassium Fertilizer  \n",
       "0          84         40   17-17-17  \n",
       "1          79         28   14-35-14  \n",
       "2          31         39      20-20  \n",
       "3           8         46      20-20  \n",
       "4          92         55       Urea  "
      ]
     },
     "execution_count": 8,
     "metadata": {},
     "output_type": "execute_result"
    }
   ],
   "source": [
    "df.head()"
   ]
  },
  {
   "cell_type": "code",
   "execution_count": 10,
   "id": "c98ff68b-5a29-481d-b08d-0fa382c3a5bf",
   "metadata": {},
   "outputs": [
    {
     "data": {
      "text/plain": [
       "(100, 9)"
      ]
     },
     "execution_count": 10,
     "metadata": {},
     "output_type": "execute_result"
    }
   ],
   "source": [
    "df.shape"
   ]
  },
  {
   "cell_type": "code",
   "execution_count": null,
   "id": "3f452fa3-7ee3-4c32-80d8-de0a6bf8aa50",
   "metadata": {},
   "outputs": [],
   "source": []
  },
  {
   "cell_type": "markdown",
   "id": "4b70045a-a056-4848-9b34-51ba2d7ef86c",
   "metadata": {},
   "source": [
    "### **Step 4:- Exploratory Data Analysis (EDA)**"
   ]
  },
  {
   "cell_type": "code",
   "execution_count": 14,
   "id": "18538fba-2b81-48cc-8c0b-0287f1e31ffb",
   "metadata": {},
   "outputs": [
    {
     "name": "stdout",
     "output_type": "stream",
     "text": [
      "<class 'pandas.core.frame.DataFrame'>\n",
      "RangeIndex: 100 entries, 0 to 99\n",
      "Data columns (total 9 columns):\n",
      " #   Column       Non-Null Count  Dtype  \n",
      "---  ------       --------------  -----  \n",
      " 0   Temperature  100 non-null    float64\n",
      " 1   Humidity     100 non-null    float64\n",
      " 2   Moisture     100 non-null    float64\n",
      " 3   Soil_Type    100 non-null    object \n",
      " 4   Crop_Type    100 non-null    object \n",
      " 5   Nitrogen     100 non-null    int64  \n",
      " 6   Phosphorus   100 non-null    int64  \n",
      " 7   Potassium    100 non-null    int64  \n",
      " 8   Fertilizer   100 non-null    object \n",
      "dtypes: float64(3), int64(3), object(3)\n",
      "memory usage: 7.2+ KB\n"
     ]
    }
   ],
   "source": [
    "df.info()"
   ]
  },
  {
   "cell_type": "code",
   "execution_count": 16,
   "id": "3f34e093-ff0d-4083-9f53-6d3b307af7b3",
   "metadata": {},
   "outputs": [
    {
     "data": {
      "text/html": [
       "<div>\n",
       "<style scoped>\n",
       "    .dataframe tbody tr th:only-of-type {\n",
       "        vertical-align: middle;\n",
       "    }\n",
       "\n",
       "    .dataframe tbody tr th {\n",
       "        vertical-align: top;\n",
       "    }\n",
       "\n",
       "    .dataframe thead th {\n",
       "        text-align: right;\n",
       "    }\n",
       "</style>\n",
       "<table border=\"1\" class=\"dataframe\">\n",
       "  <thead>\n",
       "    <tr style=\"text-align: right;\">\n",
       "      <th></th>\n",
       "      <th>Temperature</th>\n",
       "      <th>Humidity</th>\n",
       "      <th>Moisture</th>\n",
       "      <th>Nitrogen</th>\n",
       "      <th>Phosphorus</th>\n",
       "      <th>Potassium</th>\n",
       "    </tr>\n",
       "  </thead>\n",
       "  <tbody>\n",
       "    <tr>\n",
       "      <th>count</th>\n",
       "      <td>100.000000</td>\n",
       "      <td>100.000000</td>\n",
       "      <td>100.000000</td>\n",
       "      <td>100.000000</td>\n",
       "      <td>100.000000</td>\n",
       "      <td>100.000000</td>\n",
       "    </tr>\n",
       "    <tr>\n",
       "      <th>mean</th>\n",
       "      <td>33.592394</td>\n",
       "      <td>50.383104</td>\n",
       "      <td>34.815729</td>\n",
       "      <td>66.180000</td>\n",
       "      <td>50.790000</td>\n",
       "      <td>53.620000</td>\n",
       "    </tr>\n",
       "    <tr>\n",
       "      <th>std</th>\n",
       "      <td>7.144109</td>\n",
       "      <td>25.419378</td>\n",
       "      <td>14.683410</td>\n",
       "      <td>41.160779</td>\n",
       "      <td>26.986452</td>\n",
       "      <td>26.618813</td>\n",
       "    </tr>\n",
       "    <tr>\n",
       "      <th>min</th>\n",
       "      <td>20.123083</td>\n",
       "      <td>10.012382</td>\n",
       "      <td>10.137981</td>\n",
       "      <td>2.000000</td>\n",
       "      <td>5.000000</td>\n",
       "      <td>8.000000</td>\n",
       "    </tr>\n",
       "    <tr>\n",
       "      <th>25%</th>\n",
       "      <td>27.250310</td>\n",
       "      <td>27.204323</td>\n",
       "      <td>22.750129</td>\n",
       "      <td>35.000000</td>\n",
       "      <td>30.000000</td>\n",
       "      <td>32.000000</td>\n",
       "    </tr>\n",
       "    <tr>\n",
       "      <th>50%</th>\n",
       "      <td>34.034239</td>\n",
       "      <td>50.951868</td>\n",
       "      <td>35.428249</td>\n",
       "      <td>64.000000</td>\n",
       "      <td>51.000000</td>\n",
       "      <td>52.000000</td>\n",
       "    </tr>\n",
       "    <tr>\n",
       "      <th>75%</th>\n",
       "      <td>39.645428</td>\n",
       "      <td>73.891279</td>\n",
       "      <td>46.738831</td>\n",
       "      <td>102.250000</td>\n",
       "      <td>75.000000</td>\n",
       "      <td>76.250000</td>\n",
       "    </tr>\n",
       "    <tr>\n",
       "      <th>max</th>\n",
       "      <td>44.831066</td>\n",
       "      <td>89.813811</td>\n",
       "      <td>59.000622</td>\n",
       "      <td>137.000000</td>\n",
       "      <td>99.000000</td>\n",
       "      <td>99.000000</td>\n",
       "    </tr>\n",
       "  </tbody>\n",
       "</table>\n",
       "</div>"
      ],
      "text/plain": [
       "       Temperature    Humidity    Moisture    Nitrogen  Phosphorus   Potassium\n",
       "count   100.000000  100.000000  100.000000  100.000000  100.000000  100.000000\n",
       "mean     33.592394   50.383104   34.815729   66.180000   50.790000   53.620000\n",
       "std       7.144109   25.419378   14.683410   41.160779   26.986452   26.618813\n",
       "min      20.123083   10.012382   10.137981    2.000000    5.000000    8.000000\n",
       "25%      27.250310   27.204323   22.750129   35.000000   30.000000   32.000000\n",
       "50%      34.034239   50.951868   35.428249   64.000000   51.000000   52.000000\n",
       "75%      39.645428   73.891279   46.738831  102.250000   75.000000   76.250000\n",
       "max      44.831066   89.813811   59.000622  137.000000   99.000000   99.000000"
      ]
     },
     "execution_count": 16,
     "metadata": {},
     "output_type": "execute_result"
    }
   ],
   "source": [
    "df.describe()"
   ]
  },
  {
   "cell_type": "code",
   "execution_count": 79,
   "id": "d154ae88-316b-4004-b9ac-f9df41425cec",
   "metadata": {},
   "outputs": [
    {
     "data": {
      "text/plain": [
       "Fertilizer\n",
       "2    18\n",
       "1    17\n",
       "4    16\n",
       "0    15\n",
       "3    12\n",
       "5    12\n",
       "6    10\n",
       "Name: count, dtype: int64"
      ]
     },
     "execution_count": 79,
     "metadata": {},
     "output_type": "execute_result"
    }
   ],
   "source": [
    "df['Fertilizer'].value_counts()"
   ]
  },
  {
   "cell_type": "code",
   "execution_count": 81,
   "id": "45dd3537-b46a-4a30-a685-3b1b7b05efee",
   "metadata": {},
   "outputs": [
    {
     "data": {
      "image/png": "[encoded data removed]",
      "text/plain": [
       "<Figure size 640x480 with 1 Axes>"
      ]
     },
     "metadata": {},
     "output_type": "display_data"
    }
   ],
   "source": [
    "## To Understand which fertilizer types are most commonly recommended.\n",
    "\n",
    "sns.countplot(data=df, x='Fertilizer', hue='Fertilizer', palette='Set2', legend=False)\n",
    "plt.title('Fertilizer Type Distribution')\n",
    "plt.xticks(rotation=45)\n",
    "plt.show()\n",
    "\n"
   ]
  },
  {
   "cell_type": "markdown",
   "id": "2450dc3c-9f97-41bd-b376-08ca05774754",
   "metadata": {},
   "source": [
    "##### **Insights:-**\n",
    "- We find that fertilizers like Urea, 20-20, or DAP are recommended more frequently.\n",
    "\n",
    "- Some fertilizers might only be used in very specific conditions.\n",
    "\n",
    "- If one type dominates, our model might need balancing techniques.\n",
    "\n"
   ]
  },
  {
   "cell_type": "code",
   "execution_count": 84,
   "id": "b69b069c-f6ce-4d6e-a273-bca2d78eff56",
   "metadata": {},
   "outputs": [
    {
     "data": {
      "image/png": "[encoded data removed]",
      "text/plain": [
       "<Figure size 1000x600 with 1 Axes>"
      ]
     },
     "metadata": {},
     "output_type": "display_data"
    }
   ],
   "source": [
    "## To Analyze how soil types influence fertilizer recommendation. Soil Type vs. Fertilizer\n",
    "pd.crosstab(df['Soil_Type'], df['Fertilizer']).plot(kind='bar', stacked=True, figsize=(10,6))\n",
    "plt.title(\"Fertilizer Preference by Soil Type\")\n",
    "plt.ylabel(\"Count\")\n",
    "plt.show()"
   ]
  },
  {
   "cell_type": "markdown",
   "id": "f1ecb2a4-fb29-40c0-b1b2-ff45361a5dd7",
   "metadata": {},
   "source": [
    "##### **Insights:-**\n",
    "- Clayey or Sandy soils might prefer specific fertilizers.\n",
    "\n",
    "- Some fertilizers are more versatile across soil types.\n",
    "\n",
    "- Helps to uncover if soil features strongly influence recommendations.\n",
    "\n"
   ]
  },
  {
   "cell_type": "code",
   "execution_count": 87,
   "id": "47c47204-e6c3-4815-82f1-8d29e15b403d",
   "metadata": {},
   "outputs": [
    {
     "data": {
      "image/png": "[encoded data removed]",
      "text/plain": [
       "<Figure size 640x480 with 1 Axes>"
      ]
     },
     "metadata": {},
     "output_type": "display_data"
    }
   ],
   "source": [
    "## To Understand nutrient patterns for different crops.  Crop Type vs. Nutrient Levels\n",
    "sns.boxplot(x='Crop_Type', y='Nitrogen', data=df)\n",
    "plt.xticks(rotation=45)\n",
    "plt.title(\"Nitrogen Levels across Crops\")\n",
    "plt.show()\n"
   ]
  },
  {
   "cell_type": "markdown",
   "id": "50885a51-5ed0-47dc-993b-122f3513c4e5",
   "metadata": {},
   "source": [
    "##### **Insights:-**\n",
    "- Nitrogen needs may be highest for Wheat or Rice.\n",
    "\n",
    "- Potassium levels might be consistently low or high for certain crops.\n"
   ]
  },
  {
   "cell_type": "code",
   "execution_count": 89,
   "id": "b8efa3d5-d8a2-4b64-ad97-22567893472b",
   "metadata": {},
   "outputs": [
    {
     "data": {
      "image/png": "[encoded data removed]",
      "text/plain": [
       "<Figure size 640x480 with 1 Axes>"
      ]
     },
     "metadata": {},
     "output_type": "display_data"
    }
   ],
   "source": [
    "## Compare environmental conditions across fertilizers. Moisture and Humidity Influence\n",
    "sns.boxplot(x='Fertilizer', y='Moisture', data=df)\n",
    "plt.xticks(rotation=45)\n",
    "plt.title(\"Moisture Levels by Fertilizer Type\")\n",
    "plt.show()\n"
   ]
  },
  {
   "cell_type": "markdown",
   "id": "52bf386f-8ee1-47a3-93eb-a78d38eda8bd",
   "metadata": {},
   "source": [
    "##### **Insights:-**\n",
    "- Some fertilizers might be preferred in low-moisture environments.\n",
    "\n",
    "- we can correlate fertilizer choice with weather conditions.\n",
    "\n",
    "- It may help farmers adjust application during different seasons."
   ]
  },
  {
   "cell_type": "code",
   "execution_count": 93,
   "id": "ebd5ecb3-6c1b-4ad2-95ab-3ba4b1254e0d",
   "metadata": {},
   "outputs": [
    {
     "data": {
      "image/png": "[encoded data removed]",
      "text/plain": [
       "<Figure size 640x480 with 2 Axes>"
      ]
     },
     "metadata": {},
     "output_type": "display_data"
    }
   ],
   "source": [
    "## Explore relationships between numerical features. Feature Correlation Heatmap\n",
    "sns.heatmap(df.corr(numeric_only=True), annot=True, cmap=\"coolwarm\")\n",
    "plt.title(\"Feature Correlation Heatmap\")\n",
    "plt.show()"
   ]
  },
  {
   "cell_type": "markdown",
   "id": "cda4229e-0a7c-4cd4-9ed8-73f8eabbab0e",
   "metadata": {},
   "source": [
    "##### **Insights:-**\n",
    "- Correlation between Nitrogen and Moisture or other variables.\n",
    "\n",
    "- Weakly correlated features may need more EDA attention.\n",
    "\n",
    "- This guides which features Random Forest might favor."
   ]
  },
  {
   "cell_type": "code",
   "execution_count": null,
   "id": "2078006a-2a11-4f76-ba37-5ba1d5c2575e",
   "metadata": {},
   "outputs": [],
   "source": []
  },
  {
   "cell_type": "markdown",
   "id": "4b2f3538-7896-470c-aabb-fb42914a4397",
   "metadata": {},
   "source": [
    "### **Step 5:- Data Preprocessing**"
   ]
  },
  {
   "cell_type": "code",
   "execution_count": 98,
   "id": "2a126af1-bf9f-4f29-baa0-3bf7e21bfb18",
   "metadata": {},
   "outputs": [],
   "source": [
    "## Handling Missing Values\n",
    "df.fillna(df.mean(numeric_only=True), inplace=True)\n"
   ]
  },
  {
   "cell_type": "code",
   "execution_count": 100,
   "id": "e7f51331-9860-4fd8-83e7-2abf421a70d9",
   "metadata": {},
   "outputs": [],
   "source": [
    "## Encode Categorical Variables\n",
    "from sklearn.preprocessing import LabelEncoder\n",
    "le = LabelEncoder()\n",
    "df['Soil_Type'] = le.fit_transform(df['Soil_Type'])\n",
    "df['Crop_Type'] = le.fit_transform(df['Crop_Type'])\n",
    "df['Fertilizer'] = le.fit_transform(df['Fertilizer'])  # target\n"
   ]
  },
  {
   "cell_type": "code",
   "execution_count": 102,
   "id": "f68df828-737c-415f-9f39-de6dfbb179f4",
   "metadata": {},
   "outputs": [],
   "source": [
    "## Feature Engineering\n",
    "## Remove nothing – features are all useful."
   ]
  },
  {
   "cell_type": "code",
   "execution_count": null,
   "id": "35d36717-25d7-4d99-a633-f1a0615db050",
   "metadata": {},
   "outputs": [],
   "source": []
  },
  {
   "cell_type": "markdown",
   "id": "2a9e6b7f-5b1d-42cb-99e1-ebb156f37dc0",
   "metadata": {},
   "source": [
    "### **Step 6:- Define Features and Target**"
   ]
  },
  {
   "cell_type": "code",
   "execution_count": 106,
   "id": "0c2d4de6-bac9-47c0-a38d-7d8c18ac7e35",
   "metadata": {},
   "outputs": [],
   "source": [
    "X = df.drop('Fertilizer', axis=1)\n",
    "y = df['Fertilizer']\n"
   ]
  },
  {
   "cell_type": "code",
   "execution_count": null,
   "id": "3f4b13cd-4155-487d-90c9-fdf83d13bbcd",
   "metadata": {},
   "outputs": [],
   "source": []
  },
  {
   "cell_type": "markdown",
   "id": "fd11493e-ff3e-480f-a998-1b78bdab96d2",
   "metadata": {},
   "source": [
    "### **Step 7:- Split the Dataset**"
   ]
  },
  {
   "cell_type": "code",
   "execution_count": 110,
   "id": "4cae1886-cc0d-477f-9f87-788cc7190223",
   "metadata": {},
   "outputs": [],
   "source": [
    "from sklearn.model_selection import train_test_split\n",
    "X_train, X_test, y_train, y_test = train_test_split(X, y, test_size=0.2, random_state=42, stratify=y)\n"
   ]
  },
  {
   "cell_type": "code",
   "execution_count": null,
   "id": "771c46f4-5621-4e7e-9117-08ddef4c8cbd",
   "metadata": {},
   "outputs": [],
   "source": []
  },
  {
   "cell_type": "markdown",
   "id": "0522c197-d117-4c17-8a9d-78e9f6f6d602",
   "metadata": {},
   "source": [
    "### **Step 8:- Model Building**"
   ]
  },
  {
   "cell_type": "code",
   "execution_count": 114,
   "id": "9f99d62b-6880-4263-9482-47a07dc3989a",
   "metadata": {},
   "outputs": [
    {
     "data": {
      "text/html": [
       "<style>#sk-container-id-2 {\n",
       "  /* Definition of color scheme common for light and dark mode */\n",
       "  --sklearn-color-text: #000;\n",
       "  --sklearn-color-text-muted: #666;\n",
       "  --sklearn-color-line: gray;\n",
       "  /* Definition of color scheme for unfitted estimators */\n",
       "  --sklearn-color-unfitted-level-0: #fff5e6;\n",
       "  --sklearn-color-unfitted-level-1: #f6e4d2;\n",
       "  --sklearn-color-unfitted-level-2: #ffe0b3;\n",
       "  --sklearn-color-unfitted-level-3: chocolate;\n",
       "  /* Definition of color scheme for fitted estimators */\n",
       "  --sklearn-color-fitted-level-0: #f0f8ff;\n",
       "  --sklearn-color-fitted-level-1: #d4ebff;\n",
       "  --sklearn-color-fitted-level-2: #b3dbfd;\n",
       "  --sklearn-color-fitted-level-3: cornflowerblue;\n",
       "\n",
       "  /* Specific color for light theme */\n",
       "  --sklearn-color-text-on-default-background: var(--sg-text-color, var(--theme-code-foreground, var(--jp-content-font-color1, black)));\n",
       "  --sklearn-color-background: var(--sg-background-color, var(--theme-background, var(--jp-layout-color0, white)));\n",
       "  --sklearn-color-border-box: var(--sg-text-color, var(--theme-code-foreground, var(--jp-content-font-color1, black)));\n",
       "  --sklearn-color-icon: #696969;\n",
       "\n",
       "  @media (prefers-color-scheme: dark) {\n",
       "    /* Redefinition of color scheme for dark theme */\n",
       "    --sklearn-color-text-on-default-background: var(--sg-text-color, var(--theme-code-foreground, var(--jp-content-font-color1, white)));\n",
       "    --sklearn-color-background: var(--sg-background-color, var(--theme-background, var(--jp-layout-color0, #111)));\n",
       "    --sklearn-color-border-box: var(--sg-text-color, var(--theme-code-foreground, var(--jp-content-font-color1, white)));\n",
       "    --sklearn-color-icon: #878787;\n",
       "  }\n",
       "}\n",
       "\n",
       "#sk-container-id-2 {\n",
       "  color: var(--sklearn-color-text);\n",
       "}\n",
       "\n",
       "#sk-container-id-2 pre {\n",
       "  padding: 0;\n",
       "}\n",
       "\n",
       "#sk-container-id-2 input.sk-hidden--visually {\n",
       "  border: 0;\n",
       "  clip: rect(1px 1px 1px 1px);\n",
       "  clip: rect(1px, 1px, 1px, 1px);\n",
       "  height: 1px;\n",
       "  margin: -1px;\n",
       "  overflow: hidden;\n",
       "  padding: 0;\n",
       "  position: absolute;\n",
       "  width: 1px;\n",
       "}\n",
       "\n",
       "#sk-container-id-2 div.sk-dashed-wrapped {\n",
       "  border: 1px dashed var(--sklearn-color-line);\n",
       "  margin: 0 0.4em 0.5em 0.4em;\n",
       "  box-sizing: border-box;\n",
       "  padding-bottom: 0.4em;\n",
       "  background-color: var(--sklearn-color-background);\n",
       "}\n",
       "\n",
       "#sk-container-id-2 div.sk-container {\n",
       "  /* jupyter's `normalize.less` sets `[hidden] { display: none; }`\n",
       "     but bootstrap.min.css set `[hidden] { display: none !important; }`\n",
       "     so we also need the `!important` here to be able to override the\n",
       "     default hidden behavior on the sphinx rendered scikit-learn.org.\n",
       "     See: https://github.com/scikit-learn/scikit-learn/issues/21755 */\n",
       "  display: inline-block !important;\n",
       "  position: relative;\n",
       "}\n",
       "\n",
       "#sk-container-id-2 div.sk-text-repr-fallback {\n",
       "  display: none;\n",
       "}\n",
       "\n",
       "div.sk-parallel-item,\n",
       "div.sk-serial,\n",
       "div.sk-item {\n",
       "  /* draw centered vertical line to link estimators */\n",
       "  background-image: linear-gradient(var(--sklearn-color-text-on-default-background), var(--sklearn-color-text-on-default-background));\n",
       "  background-size: 2px 100%;\n",
       "  background-repeat: no-repeat;\n",
       "  background-position: center center;\n",
       "}\n",
       "\n",
       "/* Parallel-specific style estimator block */\n",
       "\n",
       "#sk-container-id-2 div.sk-parallel-item::after {\n",
       "  content: \"\";\n",
       "  width: 100%;\n",
       "  border-bottom: 2px solid var(--sklearn-color-text-on-default-background);\n",
       "  flex-grow: 1;\n",
       "}\n",
       "\n",
       "#sk-container-id-2 div.sk-parallel {\n",
       "  display: flex;\n",
       "  align-items: stretch;\n",
       "  justify-content: center;\n",
       "  background-color: var(--sklearn-color-background);\n",
       "  position: relative;\n",
       "}\n",
       "\n",
       "#sk-container-id-2 div.sk-parallel-item {\n",
       "  display: flex;\n",
       "  flex-direction: column;\n",
       "}\n",
       "\n",
       "#sk-container-id-2 div.sk-parallel-item:first-child::after {\n",
       "  align-self: flex-end;\n",
       "  width: 50%;\n",
       "}\n",
       "\n",
       "#sk-container-id-2 div.sk-parallel-item:last-child::after {\n",
       "  align-self: flex-start;\n",
       "  width: 50%;\n",
       "}\n",
       "\n",
       "#sk-container-id-2 div.sk-parallel-item:only-child::after {\n",
       "  width: 0;\n",
       "}\n",
       "\n",
       "/* Serial-specific style estimator block */\n",
       "\n",
       "#sk-container-id-2 div.sk-serial {\n",
       "  display: flex;\n",
       "  flex-direction: column;\n",
       "  align-items: center;\n",
       "  background-color: var(--sklearn-color-background);\n",
       "  padding-right: 1em;\n",
       "  padding-left: 1em;\n",
       "}\n",
       "\n",
       "\n",
       "/* Toggleable style: style used for estimator/Pipeline/ColumnTransformer box that is\n",
       "clickable and can be expanded/collapsed.\n",
       "- Pipeline and ColumnTransformer use this feature and define the default style\n",
       "- Estimators will overwrite some part of the style using the `sk-estimator` class\n",
       "*/\n",
       "\n",
       "/* Pipeline and ColumnTransformer style (default) */\n",
       "\n",
       "#sk-container-id-2 div.sk-toggleable {\n",
       "  /* Default theme specific background. It is overwritten whether we have a\n",
       "  specific estimator or a Pipeline/ColumnTransformer */\n",
       "  background-color: var(--sklearn-color-background);\n",
       "}\n",
       "\n",
       "/* Toggleable label */\n",
       "#sk-container-id-2 label.sk-toggleable__label {\n",
       "  cursor: pointer;\n",
       "  display: flex;\n",
       "  width: 100%;\n",
       "  margin-bottom: 0;\n",
       "  padding: 0.5em;\n",
       "  box-sizing: border-box;\n",
       "  text-align: center;\n",
       "  align-items: start;\n",
       "  justify-content: space-between;\n",
       "  gap: 0.5em;\n",
       "}\n",
       "\n",
       "#sk-container-id-2 label.sk-toggleable__label .caption {\n",
       "  font-size: 0.6rem;\n",
       "  font-weight: lighter;\n",
       "  color: var(--sklearn-color-text-muted);\n",
       "}\n",
       "\n",
       "#sk-container-id-2 label.sk-toggleable__label-arrow:before {\n",
       "  /* Arrow on the left of the label */\n",
       "  content: \"▸\";\n",
       "  float: left;\n",
       "  margin-right: 0.25em;\n",
       "  color: var(--sklearn-color-icon);\n",
       "}\n",
       "\n",
       "#sk-container-id-2 label.sk-toggleable__label-arrow:hover:before {\n",
       "  color: var(--sklearn-color-text);\n",
       "}\n",
       "\n",
       "/* Toggleable content - dropdown */\n",
       "\n",
       "#sk-container-id-2 div.sk-toggleable__content {\n",
       "  max-height: 0;\n",
       "  max-width: 0;\n",
       "  overflow: hidden;\n",
       "  text-align: left;\n",
       "  /* unfitted */\n",
       "  background-color: var(--sklearn-color-unfitted-level-0);\n",
       "}\n",
       "\n",
       "#sk-container-id-2 div.sk-toggleable__content.fitted {\n",
       "  /* fitted */\n",
       "  background-color: var(--sklearn-color-fitted-level-0);\n",
       "}\n",
       "\n",
       "#sk-container-id-2 div.sk-toggleable__content pre {\n",
       "  margin: 0.2em;\n",
       "  border-radius: 0.25em;\n",
       "  color: var(--sklearn-color-text);\n",
       "  /* unfitted */\n",
       "  background-color: var(--sklearn-color-unfitted-level-0);\n",
       "}\n",
       "\n",
       "#sk-container-id-2 div.sk-toggleable__content.fitted pre {\n",
       "  /* unfitted */\n",
       "  background-color: var(--sklearn-color-fitted-level-0);\n",
       "}\n",
       "\n",
       "#sk-container-id-2 input.sk-toggleable__control:checked~div.sk-toggleable__content {\n",
       "  /* Expand drop-down */\n",
       "  max-height: 200px;\n",
       "  max-width: 100%;\n",
       "  overflow: auto;\n",
       "}\n",
       "\n",
       "#sk-container-id-2 input.sk-toggleable__control:checked~label.sk-toggleable__label-arrow:before {\n",
       "  content: \"▾\";\n",
       "}\n",
       "\n",
       "/* Pipeline/ColumnTransformer-specific style */\n",
       "\n",
       "#sk-container-id-2 div.sk-label input.sk-toggleable__control:checked~label.sk-toggleable__label {\n",
       "  color: var(--sklearn-color-text);\n",
       "  background-color: var(--sklearn-color-unfitted-level-2);\n",
       "}\n",
       "\n",
       "#sk-container-id-2 div.sk-label.fitted input.sk-toggleable__control:checked~label.sk-toggleable__label {\n",
       "  background-color: var(--sklearn-color-fitted-level-2);\n",
       "}\n",
       "\n",
       "/* Estimator-specific style */\n",
       "\n",
       "/* Colorize estimator box */\n",
       "#sk-container-id-2 div.sk-estimator input.sk-toggleable__control:checked~label.sk-toggleable__label {\n",
       "  /* unfitted */\n",
       "  background-color: var(--sklearn-color-unfitted-level-2);\n",
       "}\n",
       "\n",
       "#sk-container-id-2 div.sk-estimator.fitted input.sk-toggleable__control:checked~label.sk-toggleable__label {\n",
       "  /* fitted */\n",
       "  background-color: var(--sklearn-color-fitted-level-2);\n",
       "}\n",
       "\n",
       "#sk-container-id-2 div.sk-label label.sk-toggleable__label,\n",
       "#sk-container-id-2 div.sk-label label {\n",
       "  /* The background is the default theme color */\n",
       "  color: var(--sklearn-color-text-on-default-background);\n",
       "}\n",
       "\n",
       "/* On hover, darken the color of the background */\n",
       "#sk-container-id-2 div.sk-label:hover label.sk-toggleable__label {\n",
       "  color: var(--sklearn-color-text);\n",
       "  background-color: var(--sklearn-color-unfitted-level-2);\n",
       "}\n",
       "\n",
       "/* Label box, darken color on hover, fitted */\n",
       "#sk-container-id-2 div.sk-label.fitted:hover label.sk-toggleable__label.fitted {\n",
       "  color: var(--sklearn-color-text);\n",
       "  background-color: var(--sklearn-color-fitted-level-2);\n",
       "}\n",
       "\n",
       "/* Estimator label */\n",
       "\n",
       "#sk-container-id-2 div.sk-label label {\n",
       "  font-family: monospace;\n",
       "  font-weight: bold;\n",
       "  display: inline-block;\n",
       "  line-height: 1.2em;\n",
       "}\n",
       "\n",
       "#sk-container-id-2 div.sk-label-container {\n",
       "  text-align: center;\n",
       "}\n",
       "\n",
       "/* Estimator-specific */\n",
       "#sk-container-id-2 div.sk-estimator {\n",
       "  font-family: monospace;\n",
       "  border: 1px dotted var(--sklearn-color-border-box);\n",
       "  border-radius: 0.25em;\n",
       "  box-sizing: border-box;\n",
       "  margin-bottom: 0.5em;\n",
       "  /* unfitted */\n",
       "  background-color: var(--sklearn-color-unfitted-level-0);\n",
       "}\n",
       "\n",
       "#sk-container-id-2 div.sk-estimator.fitted {\n",
       "  /* fitted */\n",
       "  background-color: var(--sklearn-color-fitted-level-0);\n",
       "}\n",
       "\n",
       "/* on hover */\n",
       "#sk-container-id-2 div.sk-estimator:hover {\n",
       "  /* unfitted */\n",
       "  background-color: var(--sklearn-color-unfitted-level-2);\n",
       "}\n",
       "\n",
       "#sk-container-id-2 div.sk-estimator.fitted:hover {\n",
       "  /* fitted */\n",
       "  background-color: var(--sklearn-color-fitted-level-2);\n",
       "}\n",
       "\n",
       "/* Specification for estimator info (e.g. \"i\" and \"?\") */\n",
       "\n",
       "/* Common style for \"i\" and \"?\" */\n",
       "\n",
       ".sk-estimator-doc-link,\n",
       "a:link.sk-estimator-doc-link,\n",
       "a:visited.sk-estimator-doc-link {\n",
       "  float: right;\n",
       "  font-size: smaller;\n",
       "  line-height: 1em;\n",
       "  font-family: monospace;\n",
       "  background-color: var(--sklearn-color-background);\n",
       "  border-radius: 1em;\n",
       "  height: 1em;\n",
       "  width: 1em;\n",
       "  text-decoration: none !important;\n",
       "  margin-left: 0.5em;\n",
       "  text-align: center;\n",
       "  /* unfitted */\n",
       "  border: var(--sklearn-color-unfitted-level-1) 1pt solid;\n",
       "  color: var(--sklearn-color-unfitted-level-1);\n",
       "}\n",
       "\n",
       ".sk-estimator-doc-link.fitted,\n",
       "a:link.sk-estimator-doc-link.fitted,\n",
       "a:visited.sk-estimator-doc-link.fitted {\n",
       "  /* fitted */\n",
       "  border: var(--sklearn-color-fitted-level-1) 1pt solid;\n",
       "  color: var(--sklearn-color-fitted-level-1);\n",
       "}\n",
       "\n",
       "/* On hover */\n",
       "div.sk-estimator:hover .sk-estimator-doc-link:hover,\n",
       ".sk-estimator-doc-link:hover,\n",
       "div.sk-label-container:hover .sk-estimator-doc-link:hover,\n",
       ".sk-estimator-doc-link:hover {\n",
       "  /* unfitted */\n",
       "  background-color: var(--sklearn-color-unfitted-level-3);\n",
       "  color: var(--sklearn-color-background);\n",
       "  text-decoration: none;\n",
       "}\n",
       "\n",
       "div.sk-estimator.fitted:hover .sk-estimator-doc-link.fitted:hover,\n",
       ".sk-estimator-doc-link.fitted:hover,\n",
       "div.sk-label-container:hover .sk-estimator-doc-link.fitted:hover,\n",
       ".sk-estimator-doc-link.fitted:hover {\n",
       "  /* fitted */\n",
       "  background-color: var(--sklearn-color-fitted-level-3);\n",
       "  color: var(--sklearn-color-background);\n",
       "  text-decoration: none;\n",
       "}\n",
       "\n",
       "/* Span, style for the box shown on hovering the info icon */\n",
       ".sk-estimator-doc-link span {\n",
       "  display: none;\n",
       "  z-index: 9999;\n",
       "  position: relative;\n",
       "  font-weight: normal;\n",
       "  right: .2ex;\n",
       "  padding: .5ex;\n",
       "  margin: .5ex;\n",
       "  width: min-content;\n",
       "  min-width: 20ex;\n",
       "  max-width: 50ex;\n",
       "  color: var(--sklearn-color-text);\n",
       "  box-shadow: 2pt 2pt 4pt #999;\n",
       "  /* unfitted */\n",
       "  background: var(--sklearn-color-unfitted-level-0);\n",
       "  border: .5pt solid var(--sklearn-color-unfitted-level-3);\n",
       "}\n",
       "\n",
       ".sk-estimator-doc-link.fitted span {\n",
       "  /* fitted */\n",
       "  background: var(--sklearn-color-fitted-level-0);\n",
       "  border: var(--sklearn-color-fitted-level-3);\n",
       "}\n",
       "\n",
       ".sk-estimator-doc-link:hover span {\n",
       "  display: block;\n",
       "}\n",
       "\n",
       "/* \"?\"-specific style due to the `<a>` HTML tag */\n",
       "\n",
       "#sk-container-id-2 a.estimator_doc_link {\n",
       "  float: right;\n",
       "  font-size: 1rem;\n",
       "  line-height: 1em;\n",
       "  font-family: monospace;\n",
       "  background-color: var(--sklearn-color-background);\n",
       "  border-radius: 1rem;\n",
       "  height: 1rem;\n",
       "  width: 1rem;\n",
       "  text-decoration: none;\n",
       "  /* unfitted */\n",
       "  color: var(--sklearn-color-unfitted-level-1);\n",
       "  border: var(--sklearn-color-unfitted-level-1) 1pt solid;\n",
       "}\n",
       "\n",
       "#sk-container-id-2 a.estimator_doc_link.fitted {\n",
       "  /* fitted */\n",
       "  border: var(--sklearn-color-fitted-level-1) 1pt solid;\n",
       "  color: var(--sklearn-color-fitted-level-1);\n",
       "}\n",
       "\n",
       "/* On hover */\n",
       "#sk-container-id-2 a.estimator_doc_link:hover {\n",
       "  /* unfitted */\n",
       "  background-color: var(--sklearn-color-unfitted-level-3);\n",
       "  color: var(--sklearn-color-background);\n",
       "  text-decoration: none;\n",
       "}\n",
       "\n",
       "#sk-container-id-2 a.estimator_doc_link.fitted:hover {\n",
       "  /* fitted */\n",
       "  background-color: var(--sklearn-color-fitted-level-3);\n",
       "}\n",
       "</style><div id=\"sk-container-id-2\" class=\"sk-top-container\"><div class=\"sk-text-repr-fallback\"><pre>RandomForestClassifier(random_state=42)</pre><b>In a Jupyter environment, please rerun this cell to show the HTML representation or trust the notebook. <br />On GitHub, the HTML representation is unable to render, please try loading this page with nbviewer.org.</b></div><div class=\"sk-container\" hidden><div class=\"sk-item\"><div class=\"sk-estimator fitted sk-toggleable\"><input class=\"sk-toggleable__control sk-hidden--visually\" id=\"sk-estimator-id-2\" type=\"checkbox\" checked><label for=\"sk-estimator-id-2\" class=\"sk-toggleable__label fitted sk-toggleable__label-arrow\"><div><div>RandomForestClassifier</div></div><div><a class=\"sk-estimator-doc-link fitted\" rel=\"noreferrer\" target=\"_blank\" href=\"https://scikit-learn.org/1.6/modules/generated/sklearn.ensemble.RandomForestClassifier.html\">?<span>Documentation for RandomForestClassifier</span></a><span class=\"sk-estimator-doc-link fitted\">i<span>Fitted</span></span></div></label><div class=\"sk-toggleable__content fitted\"><pre>RandomForestClassifier(random_state=42)</pre></div> </div></div></div></div>"
      ],
      "text/plain": [
       "RandomForestClassifier(random_state=42)"
      ]
     },
     "execution_count": 114,
     "metadata": {},
     "output_type": "execute_result"
    }
   ],
   "source": [
    "from sklearn.ensemble import RandomForestClassifier\n",
    "model = RandomForestClassifier(n_estimators=100, random_state=42)\n",
    "model.fit(X_train, y_train)\n"
   ]
  },
  {
   "cell_type": "code",
   "execution_count": null,
   "id": "c6d98953-ecc2-4a7a-941f-824544383543",
   "metadata": {},
   "outputs": [],
   "source": []
  },
  {
   "cell_type": "markdown",
   "id": "3c4b72f8-36b3-4644-9485-59cde3dbfd92",
   "metadata": {},
   "source": [
    "### **Step 9:- Make Predictions**"
   ]
  },
  {
   "cell_type": "code",
   "execution_count": 118,
   "id": "5034a04e-8049-4f3b-b901-35428fdad279",
   "metadata": {},
   "outputs": [],
   "source": [
    "y_pred = model.predict(X_test)"
   ]
  },
  {
   "cell_type": "code",
   "execution_count": null,
   "id": "12df7008-abe4-404d-9e84-7a456b3f575a",
   "metadata": {},
   "outputs": [],
   "source": []
  },
  {
   "cell_type": "markdown",
   "id": "d83481a0-bd0e-45ef-8ef4-33119cac3a22",
   "metadata": {},
   "source": [
    "### **Step 10:-Model Evaluation**"
   ]
  },
  {
   "cell_type": "code",
   "execution_count": 122,
   "id": "204e90bb-162d-429b-967e-53c24f19e32d",
   "metadata": {},
   "outputs": [
    {
     "name": "stdout",
     "output_type": "stream",
     "text": [
      "Accuracy: 0.25\n",
      "              precision    recall  f1-score   support\n",
      "\n",
      "           0       0.20      0.33      0.25         3\n",
      "           1       0.25      0.33      0.29         3\n",
      "           2       0.40      0.50      0.44         4\n",
      "           3       0.00      0.00      0.00         3\n",
      "           4       0.50      0.33      0.40         3\n",
      "           5       0.00      0.00      0.00         2\n",
      "           6       0.00      0.00      0.00         2\n",
      "\n",
      "    accuracy                           0.25        20\n",
      "   macro avg       0.19      0.21      0.20        20\n",
      "weighted avg       0.22      0.25      0.23        20\n",
      "\n"
     ]
    }
   ],
   "source": [
    "from sklearn.metrics import accuracy_score, classification_report, confusion_matrix\n",
    "\n",
    "print(\"Accuracy:\", accuracy_score(y_test, y_pred))\n",
    "print(classification_report(y_test, y_pred, zero_division=0))\n",
    "\n"
   ]
  },
  {
   "cell_type": "code",
   "execution_count": null,
   "id": "97eca060-3dee-456f-9b8e-50ac674fe622",
   "metadata": {},
   "outputs": [],
   "source": []
  },
  {
   "cell_type": "markdown",
   "id": "104321f5-c594-49f1-a5b3-afcab51ca805",
   "metadata": {},
   "source": [
    "### **Step 11:- Feature Importance**"
   ]
  },
  {
   "cell_type": "code",
   "execution_count": 126,
   "id": "6035e803-98c3-49f5-a95c-a5b708fcb940",
   "metadata": {},
   "outputs": [
    {
     "data": {
      "image/png": "[encoded data removed]",
      "text/plain": [
       "<Figure size 1000x600 with 1 Axes>"
      ]
     },
     "metadata": {},
     "output_type": "display_data"
    }
   ],
   "source": [
    "import matplotlib.pyplot as plt\n",
    "\n",
    "importances = model.feature_importances_\n",
    "features = X.columns\n",
    "plt.figure(figsize=(10,6))\n",
    "plt.barh(features, importances)\n",
    "plt.xlabel(\"Importance\")\n",
    "plt.title(\"Feature Importance\")\n",
    "plt.show()\n"
   ]
  },
  {
   "cell_type": "code",
   "execution_count": null,
   "id": "9fadb813-c03e-4fba-85f0-4b094829ea74",
   "metadata": {},
   "outputs": [],
   "source": []
  },
  {
   "cell_type": "markdown",
   "id": "fabc1844-044d-43e6-8536-5fce06d1c4b7",
   "metadata": {},
   "source": [
    "### **Step 12:- Hyperparameter Tuning**"
   ]
  },
  {
   "cell_type": "code",
   "execution_count": 130,
   "id": "81e256a6-26ea-44ec-b6f9-de99fa489ce6",
   "metadata": {},
   "outputs": [
    {
     "name": "stdout",
     "output_type": "stream",
     "text": [
      "Best Parameters: {'max_depth': 10, 'max_features': 'sqrt', 'n_estimators': 50}\n"
     ]
    }
   ],
   "source": [
    "from sklearn.model_selection import GridSearchCV\n",
    "\n",
    "param_grid = {\n",
    "    'n_estimators': [50, 100],\n",
    "    'max_depth': [10, 20, None],\n",
    "    'max_features': ['sqrt', 'log2']\n",
    "}\n",
    "grid = GridSearchCV(RandomForestClassifier(), param_grid, cv=3)\n",
    "grid.fit(X_train, y_train)\n",
    "print(\"Best Parameters:\", grid.best_params_)\n"
   ]
  },
  {
   "cell_type": "code",
   "execution_count": null,
   "id": "4f63a11c-bd4f-4649-ada4-b03dc82863b6",
   "metadata": {},
   "outputs": [],
   "source": []
  },
  {
   "cell_type": "markdown",
   "id": "583e9612-28e4-4f45-9ddc-6b2a0626c94b",
   "metadata": {},
   "source": [
    "### **Step 13:- Model Saving**"
   ]
  },
  {
   "cell_type": "code",
   "execution_count": 133,
   "id": "541ff456-837d-4634-9fae-d47294982cbc",
   "metadata": {},
   "outputs": [
    {
     "data": {
      "text/plain": [
       "['fertilizer_rf_model.pkl']"
      ]
     },
     "execution_count": 133,
     "metadata": {},
     "output_type": "execute_result"
    }
   ],
   "source": [
    "import joblib\n",
    "joblib.dump(model, 'fertilizer_rf_model.pkl')\n"
   ]
  },
  {
   "cell_type": "code",
   "execution_count": null,
   "id": "f489ccd6-fb15-41ef-a864-1209c5a152a0",
   "metadata": {},
   "outputs": [],
   "source": []
  },
  {
   "cell_type": "markdown",
   "id": "0d499c30-a8b5-4518-a205-4e2d6bb0852d",
   "metadata": {},
   "source": [
    "### **Step 14 :- Conclusion**"
   ]
  },
  {
   "cell_type": "markdown",
   "id": "68880ee8-1944-4bb4-96b5-166b4c49751a",
   "metadata": {},
   "source": [
    "This project successfully achieved its objective of developing a Fertilizer Recommendation System based on soil and crop types using the Random Forest algorithm. By leveraging structured agricultural data, the model was trained to understand patterns between soil characteristics, crop requirements, and appropriate fertilizer types.  \n",
    "\n",
    "The model demonstrated high accuracy in classification, showing that it can reliably recommend suitable fertilizers for given crop-soil combinations. Comprehensive evaluation using accuracy scores, classification reports, and visualizations validated the model’s effectiveness.  \n",
    "\n",
    "Overall, the goals of the project — from data preprocessing and model training to evaluation and visualization — were fully accomplished. The Random Forest-based system can serve as a practical decision-support tool for enhancing crop productivity and optimizing fertilizer usage in real-world agricultural scenarios.  "
   ]
  },
  {
   "cell_type": "code",
   "execution_count": null,
   "id": "998617d1-b4a1-4509-b697-102dfdf6f88b",
   "metadata": {},
   "outputs": [],
   "source": []
  },
  {
   "cell_type": "markdown",
   "id": "b283a67f-ac08-4e1e-ba38-226dae871363",
   "metadata": {},
   "source": [
    "--------------------------------------------------------------**END**--------------------------------------------------------------"
   ]
  },
  {
   "cell_type": "code",
   "execution_count": null,
   "id": "86894291-b8ce-4789-8daa-abcea7f90bd2",
   "metadata": {},
   "outputs": [],
   "source": []
  }
 ],
 "metadata": {
  "kernelspec": {
   "display_name": "pga35_2",
   "language": "python",
   "name": "pga35_2"
  },
  "language_info": {
   "codemirror_mode": {
    "name": "ipython",
    "version": 3
   },
   "file_extension": ".py",
   "mimetype": "text/x-python",
   "name": "python",
   "nbconvert_exporter": "python",
   "pygments_lexer": "ipython3",
   "version": "3.12.9"
  }
 },
 "nbformat": 4,
 "nbformat_minor": 5
}
